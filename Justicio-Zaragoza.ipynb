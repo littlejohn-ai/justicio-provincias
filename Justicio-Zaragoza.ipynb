{
 "cells": [
  {
   "cell_type": "code",
   "execution_count": 1,
   "id": "2e4fcb8f-e8e9-475d-8811-96321f16530b",
   "metadata": {},
   "outputs": [
    {
     "name": "stderr",
     "output_type": "stream",
     "text": [
      "\n",
      "KeyboardInterrupt\n",
      "\n"
     ]
    }
   ],
   "source": [
    "%%time\n",
    "import requests\n",
    "from bs4 import BeautifulSoup\n",
    "import pandas as pd\n",
    "from datetime import datetime\n",
    "import fitz\n",
    "from io import BytesIO\n",
    "import re\n",
    "\n",
    "url = 'https://www.zaragoza.es/sede/portal/normativa/'\n",
    "ciudad = 'Zaragoza'\n",
    "date = datetime.today().strftime('%Y-%m-%d')\n",
    "\n",
    "response = requests.get(url)\n",
    "soup = BeautifulSoup(response.content, 'html.parser')\n",
    "links = {\n",
    "    'https://www.zaragoza.es' + a_tag['href'] if a_tag['href'].startswith('/') else a_tag['href']: a_tag\n",
    "    for a_tag in soup.find_all('a', href=True)\n",
    "}\n",
    "filtered_links = {\n",
    "    href: group for href, group in links.items()\n",
    "    if ('/sede/servicio/normativa/' in href or '/contenidos/normativa/ordenanzas-fiscales/' in href)\n",
    "    and not (href.endswith('/sede/servicio/normativa/') or href.endswith('/contenidos/normativa/ordenanzas-fiscales/'))\n",
    "}\n",
    "\n",
    "filtered_urls = []\n",
    "for href, group in filtered_links.items():\n",
    "    response = requests.get(href)\n",
    "    content = \"\"\n",
    "    if href.endswith('.pdf'):\n",
    "        pdf_data = BytesIO(response.content)\n",
    "        doc = fitz.open(\"pdf\", pdf_data)\n",
    "        for page in doc:\n",
    "            content += page.get_text()\n",
    "    else:\n",
    "        soup = BeautifulSoup(response.content, 'html.parser')\n",
    "        content += soup.get_text()\n",
    "    title = group.get_text(strip=True)\n",
    "    if title == 'Acceso':\n",
    "        title = group.get('data-original-title', group)\n",
    "    title = re.sub(r'^Acceso\\s*', '', title)\n",
    "    filtered_urls.append({\n",
    "        'ciudad': ciudad,\n",
    "        'date': date,\n",
    "        'grupo': '',\n",
    "        'subgrupo': '',\n",
    "        'titulo': title,\n",
    "        'url': href,\n",
    "        'content': content\n",
    "    })\n",
    "\n",
    "df = pd.DataFrame(filtered_urls)\n",
    "df"
   ]
  }
 ],
 "metadata": {
  "kernelspec": {
   "display_name": "Python 3 (ipykernel)",
   "language": "python",
   "name": "python3"
  },
  "language_info": {
   "codemirror_mode": {
    "name": "ipython",
    "version": 3
   },
   "file_extension": ".py",
   "mimetype": "text/x-python",
   "name": "python",
   "nbconvert_exporter": "python",
   "pygments_lexer": "ipython3",
   "version": "3.12.3"
  }
 },
 "nbformat": 4,
 "nbformat_minor": 5
}
